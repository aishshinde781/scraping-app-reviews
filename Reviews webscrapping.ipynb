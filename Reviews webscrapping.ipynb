{
 "cells": [
  {
   "cell_type": "code",
   "execution_count": 1,
   "id": "62d49f2c",
   "metadata": {},
   "outputs": [
    {
     "name": "stdout",
     "output_type": "stream",
     "text": [
      "Collecting google-play-scraper\n",
      "  Downloading google_play_scraper-1.2.2-py3-none-any.whl (28 kB)\n",
      "Installing collected packages: google-play-scraper\n",
      "Successfully installed google-play-scraper-1.2.2\n",
      "Note: you may need to restart the kernel to use updated packages.\n"
     ]
    }
   ],
   "source": [
    "pip install google-play-scraper"
   ]
  },
  {
   "cell_type": "markdown",
   "id": "1cba447e",
   "metadata": {},
   "source": [
    "# Loading the Libraries"
   ]
  },
  {
   "cell_type": "code",
   "execution_count": 5,
   "id": "6eaa8658",
   "metadata": {},
   "outputs": [],
   "source": [
    "import json\n",
    "import pandas as pd\n",
    "from tqdm import tqdm\n",
    "import seaborn as sns\n",
    "import matplotlib.pyplot as plt\n",
    "from pygments import highlight\n",
    "from pygments.lexers import JsonLexer\n",
    "from pygments.formatters import TerminalFormatter\n",
    "from google_play_scraper import Sort, reviews, app"
   ]
  },
  {
   "cell_type": "code",
   "execution_count": 6,
   "id": "d8924226",
   "metadata": {},
   "outputs": [],
   "source": [
    "%matplotlib inline\n",
    "%config InlineBackend.figure_format = 'retina'\n",
    "sns.set(style='whitegrid', palette='muted', font_scale=1.2)"
   ]
  },
  {
   "cell_type": "code",
   "execution_count": 8,
   "id": "83125fac",
   "metadata": {},
   "outputs": [
    {
     "data": {
      "text/plain": [
       "1"
      ]
     },
     "execution_count": 8,
     "metadata": {},
     "output_type": "execute_result"
    }
   ],
   "source": [
    "app_packages = ['com.ticktick.task']"
   ]
  },
  {
   "cell_type": "code",
   "execution_count": 9,
   "id": "89ad663e",
   "metadata": {},
   "outputs": [
    {
     "name": "stderr",
     "output_type": "stream",
     "text": [
      "100%|████████████████████████████████████████████████████████████████████████████████████| 1/1 [00:00<00:00,  2.17it/s]\n"
     ]
    }
   ],
   "source": [
    "app_info = []\n",
    "for ap in tqdm(app_packages):\n",
    "    info = app(ap,lang='en',country='us')\n",
    "    del info['comments']\n",
    "    app_info.append(info)"
   ]
  },
  {
   "cell_type": "code",
   "execution_count": 10,
   "id": "12a2fac7",
   "metadata": {},
   "outputs": [],
   "source": [
    "def print_json(json_object):\n",
    "    json_str = json.dumps(json_object,indent=2,default=str)\n",
    "    print(highlight(json_str,JsonLexer(),TerminalFormatter()))"
   ]
  },
  {
   "cell_type": "code",
   "execution_count": 11,
   "id": "8f21e60a",
   "metadata": {},
   "outputs": [
    {
     "name": "stdout",
     "output_type": "stream",
     "text": [
      "{\n",
      "  \u001b[94m\"title\"\u001b[39;49;00m: \u001b[33m\"TickTick:To-do list & Tasks\"\u001b[39;49;00m,\n",
      "  \u001b[94m\"description\"\u001b[39;49;00m: \u001b[33m\"\\ud83e\\udd47<b>Great to-do list app for new Android device</b> - The Verge\\r\\n\\ud83e\\udd47<b>The best to-do app for Android</b> - MakeUseOf\\r\\n\\ud83e\\udd47<b>The best to-do list app for 2020</b> - Wirecutter (A New York Times Company)\\r\\n\\ud83d\\ude4cMKBHD's favorite productivity tool\\r\\n\\r\\nTickTick is a simple and effective to-do list and task manager app which helps you make schedule, manage time, stay focused, remind about deadlines and organize life at home, work and everywhere else.\\ud83d\\uddd3 \\ud83d\\udd14 \\u2714\\r\\n\\r\\nTickTick helps you make the most of your day and get things done (GTD). Whether there is an idea you want to capture, personal goals to achieve, work to accomplish, habits to track, projects to collaborate with colleagues, or even a shopping list to share with family (with the help of a list maker). Achieve your goals with our productivity planner.\\r\\n\\r\\n\\ud83d\\udca1Easy to use\\r\\nTickTick is easy to get started with its intuitive design and personalized features. Add tasks and reminders in mere seconds, and then focus on things that really matter.\\r\\n\\r\\n\\u2601\\ufe0fSync across Web, Android, iOS, Mac & PC\\r\\nYou can view and manage them wherever you are to achieve your goals more efficiently.\\r\\n\\r\\n\\ud83c\\udf99\\ufe0fCreate tasks and notes faster\\r\\nAdd them by typing or voice input. With Smart Date Parsing, the date info you enter will be automatically set as due date for task reminder with alarm. Stay as productive as you can with this time manager and to-do checklist!\\r\\n\\r\\n\\u23f0Instant task to-do list reminder\\r\\nInstead of keeping all things in mind, put them into TickTick. It will remember everything for you and provide instant task to-do list reminder, for you to gtd. Set multiple notifications for important tasks and notes to never miss any deadline!\\r\\n\\r\\n\\ud83d\\udcc6 Sleek calendar\\r\\nGet a clear overview of your schedule, weeks or months ahead in to-do calendar - Day Planner for free. Third-party calendars can also be integrated, such as Google calendar, Outlook, etc.\\r\\n\\r\\n\\ud83d\\udcf1Handy Widget\\r\\nGet easy access to your tasks and notes by adding a checklist widget to your home screen. There are various types of widgets - pick the one you like most.\\r\\n\\r\\n\\ud83d\\udd01Flexible recurring tasks\\r\\nSet tasks to repeat for those that need to be done regularly. Choose a repeating period (daily, weekly, weekdays, or monthly etc.). You can customize the recurrence, such as \\u201cevery 2 weeks from Monday to Thursday\\u201d,  or \\u201cproject meeting every 2 months on the first Monday\\u201d.\\r\\n\\r\\n\\ud83d\\udc65Seamless collaboration\\r\\nShare lists, assign goals to collaborate with family, friends or colleagues. Spend fewer hours in meetings, phone calls or emails. Improve efficiency in a collaborative environment.\\r\\n\\r\\n\\ud83c\\udf45Built-in Pomo Timer\\r\\nThe Pomodoro Timer can help log your distractions and stay more focused while at work. Try playing a white noise, it helps!\\r\\n\\r\\n\\ud83c\\udfafHabit Tracker\\r\\nEnable Habit in the Tab Bar and start building some good habits - meditation, exercise, or reading etc. Setting a goal to help track your habits and life in a more precise and scientific way. \\r\\n\\r\\n\\r\\nHow TickTick makes you more productive?\\r\\n- Keep it all organized and know what to do next in to-do list\\r\\n- Classify your tasks and to-dos with list maker, folders and tags\\r\\n- Make checklists and notes\\r\\n- Improve your concentration skill with built-in Timer & Stopwatch\\r\\n- Sort goals by date, priority, and title\\r\\n- Attach photos, records and other attachments\\r\\n- Build good habits with goals to live a healthier and more energetic life\\r\\n\\r\\nWhat to enjoy more at TickTick Premium?\\r\\n- Choose from a variety of beautiful themes\\r\\n- View business calendar in grid format (better than in other time management apps)\\r\\n- Take ultimate control of 299 lists, 999 tasks per list, and 199 subtasks per task\\r\\n- Add up to 5 reminders to each task\\r\\n- Share a task list planner with up to 29 members\\r\\n- Use the checklist format and type a description in the same task\\r\\n- Subscribe to third-party calendars and day planners in TickTick\\r\\n\\r\\n\\r\\nLearn more about at: ticktick.com\\r\\n\\r\\nConnect with us at\\r\\nTwitter: @TickTickTeam \\r\\nFacebook & Instagram: @TickTickApp \\r\\nReddit: r/ticktick\"\u001b[39;49;00m,\n",
      "  \u001b[94m\"descriptionHTML\"\u001b[39;49;00m: \u001b[33m\"\\ud83e\\udd47<b>Great to-do list app for new Android device</b> - The Verge<br>\\ud83e\\udd47<b>The best to-do app for Android</b> - MakeUseOf<br>\\ud83e\\udd47<b>The best to-do list app for 2020</b> - Wirecutter (A New York Times Company)<br>\\ud83d\\ude4cMKBHD&#39;s favorite productivity tool<br><br>TickTick is a simple and effective to-do list and task manager app which helps you make schedule, manage time, stay focused, remind about deadlines and organize life at home, work and everywhere else.\\ud83d\\uddd3 \\ud83d\\udd14 \\u2714<br><br>TickTick helps you make the most of your day and get things done (GTD). Whether there is an idea you want to capture, personal goals to achieve, work to accomplish, habits to track, projects to collaborate with colleagues, or even a shopping list to share with family (with the help of a list maker). Achieve your goals with our productivity planner.<br><br>\\ud83d\\udca1Easy to use<br>TickTick is easy to get started with its intuitive design and personalized features. Add tasks and reminders in mere seconds, and then focus on things that really matter.<br><br>\\u2601\\ufe0fSync across Web, Android, iOS, Mac &amp; PC<br>You can view and manage them wherever you are to achieve your goals more efficiently.<br><br>\\ud83c\\udf99\\ufe0fCreate tasks and notes faster<br>Add them by typing or voice input. With Smart Date Parsing, the date info you enter will be automatically set as due date for task reminder with alarm. Stay as productive as you can with this time manager and to-do checklist!<br><br>\\u23f0Instant task to-do list reminder<br>Instead of keeping all things in mind, put them into TickTick. It will remember everything for you and provide instant task to-do list reminder, for you to gtd. Set multiple notifications for important tasks and notes to never miss any deadline!<br><br>\\ud83d\\udcc6 Sleek calendar<br>Get a clear overview of your schedule, weeks or months ahead in to-do calendar - Day Planner for free. Third-party calendars can also be integrated, such as Google calendar, Outlook, etc.<br><br>\\ud83d\\udcf1Handy Widget<br>Get easy access to your tasks and notes by adding a checklist widget to your home screen. There are various types of widgets - pick the one you like most.<br><br>\\ud83d\\udd01Flexible recurring tasks<br>Set tasks to repeat for those that need to be done regularly. Choose a repeating period (daily, weekly, weekdays, or monthly etc.). You can customize the recurrence, such as \\u201cevery 2 weeks from Monday to Thursday\\u201d,  or \\u201cproject meeting every 2 months on the first Monday\\u201d.<br><br>\\ud83d\\udc65Seamless collaboration<br>Share lists, assign goals to collaborate with family, friends or colleagues. Spend fewer hours in meetings, phone calls or emails. Improve efficiency in a collaborative environment.<br><br>\\ud83c\\udf45Built-in Pomo Timer<br>The Pomodoro Timer can help log your distractions and stay more focused while at work. Try playing a white noise, it helps!<br><br>\\ud83c\\udfafHabit Tracker<br>Enable Habit in the Tab Bar and start building some good habits - meditation, exercise, or reading etc. Setting a goal to help track your habits and life in a more precise and scientific way. <br><br><br>How TickTick makes you more productive?<br>- Keep it all organized and know what to do next in to-do list<br>- Classify your tasks and to-dos with list maker, folders and tags<br>- Make checklists and notes<br>- Improve your concentration skill with built-in Timer &amp; Stopwatch<br>- Sort goals by date, priority, and title<br>- Attach photos, records and other attachments<br>- Build good habits with goals to live a healthier and more energetic life<br><br>What to enjoy more at TickTick Premium?<br>- Choose from a variety of beautiful themes<br>- View business calendar in grid format (better than in other time management apps)<br>- Take ultimate control of 299 lists, 999 tasks per list, and 199 subtasks per task<br>- Add up to 5 reminders to each task<br>- Share a task list planner with up to 29 members<br>- Use the checklist format and type a description in the same task<br>- Subscribe to third-party calendars and day planners in TickTick<br><br><br>Learn more about at: ticktick.com<br><br>Connect with us at<br>Twitter: @TickTickTeam <br>Facebook &amp; Instagram: @TickTickApp <br>Reddit: r/ticktick\"\u001b[39;49;00m,\n",
      "  \u001b[94m\"summary\"\u001b[39;49;00m: \u001b[33m\"Time Management & Planner  Reminder, Calendar, Habit Tracker and Pomodoro Timer\"\u001b[39;49;00m,\n",
      "  \u001b[94m\"installs\"\u001b[39;49;00m: \u001b[33m\"5,000,000+\"\u001b[39;49;00m,\n",
      "  \u001b[94m\"minInstalls\"\u001b[39;49;00m: \u001b[34m5000000\u001b[39;49;00m,\n",
      "  \u001b[94m\"realInstalls\"\u001b[39;49;00m: \u001b[34m5533460\u001b[39;49;00m,\n",
      "  \u001b[94m\"score\"\u001b[39;49;00m: \u001b[34m4.65499\u001b[39;49;00m,\n",
      "  \u001b[94m\"ratings\"\u001b[39;49;00m: \u001b[34m103579\u001b[39;49;00m,\n",
      "  \u001b[94m\"reviews\"\u001b[39;49;00m: \u001b[34m5953\u001b[39;49;00m,\n",
      "  \u001b[94m\"histogram\"\u001b[39;49;00m: [\n",
      "    \u001b[34m3900\u001b[39;49;00m,\n",
      "    \u001b[34m1227\u001b[39;49;00m,\n",
      "    \u001b[34m2461\u001b[39;49;00m,\n",
      "    \u001b[34m11496\u001b[39;49;00m,\n",
      "    \u001b[34m84472\u001b[39;49;00m\n",
      "  ],\n",
      "  \u001b[94m\"price\"\u001b[39;49;00m: \u001b[34m0\u001b[39;49;00m,\n",
      "  \u001b[94m\"free\"\u001b[39;49;00m: \u001b[34mtrue\u001b[39;49;00m,\n",
      "  \u001b[94m\"currency\"\u001b[39;49;00m: \u001b[33m\"USD\"\u001b[39;49;00m,\n",
      "  \u001b[94m\"sale\"\u001b[39;49;00m: \u001b[34mfalse\u001b[39;49;00m,\n",
      "  \u001b[94m\"saleTime\"\u001b[39;49;00m: \u001b[34mnull\u001b[39;49;00m,\n",
      "  \u001b[94m\"originalPrice\"\u001b[39;49;00m: \u001b[34mnull\u001b[39;49;00m,\n",
      "  \u001b[94m\"saleText\"\u001b[39;49;00m: \u001b[34mnull\u001b[39;49;00m,\n",
      "  \u001b[94m\"offersIAP\"\u001b[39;49;00m: \u001b[34mtrue\u001b[39;49;00m,\n",
      "  \u001b[94m\"inAppProductPrice\"\u001b[39;49;00m: \u001b[33m\"$0.99 - $27.99 per item\"\u001b[39;49;00m,\n",
      "  \u001b[94m\"developer\"\u001b[39;49;00m: \u001b[33m\"Appest Inc.\"\u001b[39;49;00m,\n",
      "  \u001b[94m\"developerId\"\u001b[39;49;00m: \u001b[33m\"7269704759597705101\"\u001b[39;49;00m,\n",
      "  \u001b[94m\"developerEmail\"\u001b[39;49;00m: \u001b[33m\"ticktick.com@gmail.com\"\u001b[39;49;00m,\n",
      "  \u001b[94m\"developerWebsite\"\u001b[39;49;00m: \u001b[33m\"https://ticktick.com\"\u001b[39;49;00m,\n",
      "  \u001b[94m\"developerAddress\"\u001b[39;49;00m: \u001b[33m\"2035 Sunset Lake Road\\nNewark\\nDelaware\\nUS\"\u001b[39;49;00m,\n",
      "  \u001b[94m\"privacyPolicy\"\u001b[39;49;00m: \u001b[33m\"https://ticktick.com/about/privacy\"\u001b[39;49;00m,\n",
      "  \u001b[94m\"genre\"\u001b[39;49;00m: \u001b[33m\"Productivity\"\u001b[39;49;00m,\n",
      "  \u001b[94m\"genreId\"\u001b[39;49;00m: \u001b[33m\"PRODUCTIVITY\"\u001b[39;49;00m,\n",
      "  \u001b[94m\"icon\"\u001b[39;49;00m: \u001b[33m\"https://play-lh.googleusercontent.com/JkYolPNuRAlrXEI9vlk-XOid3VFJ0IPjDj2eM_xrriuE3Zu8IX9cuMkI7JOTw1upNxbW\"\u001b[39;49;00m,\n",
      "  \u001b[94m\"headerImage\"\u001b[39;49;00m: \u001b[33m\"https://play-lh.googleusercontent.com/m-kwaaJEP_P6AxH0sZhYkIndvdO45YAyKpH4ANPDQHuKSkIN2ak0BSaErfvg8kv_gA-J\"\u001b[39;49;00m,\n",
      "  \u001b[94m\"screenshots\"\u001b[39;49;00m: [\n",
      "    \u001b[33m\"https://play-lh.googleusercontent.com/X7oCVONax5nduGn708LGZY_ocDJlN7_CYHilLCK-L2Gwilo6VQAbwSP-HqPASON8lgsm\"\u001b[39;49;00m,\n",
      "    \u001b[33m\"https://play-lh.googleusercontent.com/gju7efa9sPtDA1hR9TX1s7k6p-Nu4DVUGdwzkuJmGL6sguSnlEv-PZWrYQpWdkjZJVM\"\u001b[39;49;00m,\n",
      "    \u001b[33m\"https://play-lh.googleusercontent.com/4Y9l9zeYkIQjMwtS6M6giGV31PSgnSkmLAZk2dEKMNJ7Scj3kA2M5J4-7fUQ_hfmnoQ\"\u001b[39;49;00m,\n",
      "    \u001b[33m\"https://play-lh.googleusercontent.com/OlQGgYGJVsj5Lm0XT4NNMAhf7FpUzUYQhsQ1XiK4BK9ih2Eps2wsiKr5eaeXivEbGw\"\u001b[39;49;00m,\n",
      "    \u001b[33m\"https://play-lh.googleusercontent.com/7AzDmmGfphpJvRGi_xByEW5R32mFIvhR-3sTCoqUUqx-1o_WGJA3LUIWV66I5MRlCW8\"\u001b[39;49;00m,\n",
      "    \u001b[33m\"https://play-lh.googleusercontent.com/YaEJfhQ8bgzCvNkYTRRMfvpciPrCrFkiZHzFQyjcN1xJzsFlUmZU0seQn0vcxeoV9ZA\"\u001b[39;49;00m,\n",
      "    \u001b[33m\"https://play-lh.googleusercontent.com/-5r6NIZSVg5KngvD1WHAt3nIJ9TsFTUqGQPRxXi3KerGzQVE-juNDA6rhjzb7pzIY4Hy\"\u001b[39;49;00m,\n",
      "    \u001b[33m\"https://play-lh.googleusercontent.com/j6Rqx0ERZ-DMdaj8txf1OhRsGeaeEEedZIiX7hMiaqgiCgUTw4ooyLx6dm_gMBaFrg\"\u001b[39;49;00m,\n",
      "    \u001b[33m\"https://play-lh.googleusercontent.com/ZQugpamSIQ-jhbfJB9w2STd5KqX8hQm-t3UXivnz34gfEpAxqdIaZyX43kFnpNHNMvQ\"\u001b[39;49;00m,\n",
      "    \u001b[33m\"https://play-lh.googleusercontent.com/Y11yEFZKnYgmx1OkAmggr6_BbAxC1-PndD_P7kWIj6lTzuANAWAvJN2mH1hqQblWxTPL\"\u001b[39;49;00m,\n",
      "    \u001b[33m\"https://play-lh.googleusercontent.com/XX2ULoX3X8O4uQXSmADTHhGuEAt8Myj-ezBaOMABo_8FGuG6U_a3bIuOb_L4C5sojA\"\u001b[39;49;00m,\n",
      "    \u001b[33m\"https://play-lh.googleusercontent.com/U7k5Gw4LP1rmhzHEoN0lX5PKM8MdGQYu3Cqg350p_TkDnepzuE6WclfAoM6aA66keZ8P\"\u001b[39;49;00m,\n",
      "    \u001b[33m\"https://play-lh.googleusercontent.com/fvmIcEkWfjfY5zn0lvxXKQ0SicWWoTbcJV157ruDU32f77-2URtjZ8_mIz9wiq9YLp0\"\u001b[39;49;00m,\n",
      "    \u001b[33m\"https://play-lh.googleusercontent.com/yQZQv3yZLL2CoWfMTryTHz0b9oGj4cPmAC9VEjiQfN9YrbJHIRfyLblSogHFl3mlWS8f\"\u001b[39;49;00m,\n",
      "    \u001b[33m\"https://play-lh.googleusercontent.com/cv_FRno7AlmxX9uuGSlTT3DvdM5l25acFeOcZ7KQFwm7qDWjpdRN-QUEh7xv2nGPzXaz\"\u001b[39;49;00m\n",
      "  ],\n",
      "  \u001b[94m\"video\"\u001b[39;49;00m: \u001b[34mnull\u001b[39;49;00m,\n",
      "  \u001b[94m\"videoImage\"\u001b[39;49;00m: \u001b[34mnull\u001b[39;49;00m,\n",
      "  \u001b[94m\"contentRating\"\u001b[39;49;00m: \u001b[33m\"Everyone\"\u001b[39;49;00m,\n",
      "  \u001b[94m\"contentRatingDescription\"\u001b[39;49;00m: \u001b[34mnull\u001b[39;49;00m,\n",
      "  \u001b[94m\"adSupported\"\u001b[39;49;00m: \u001b[34mfalse\u001b[39;49;00m,\n",
      "  \u001b[94m\"containsAds\"\u001b[39;49;00m: \u001b[34mfalse\u001b[39;49;00m,\n",
      "  \u001b[94m\"released\"\u001b[39;49;00m: \u001b[33m\"Jun 19, 2013\"\u001b[39;49;00m,\n",
      "  \u001b[94m\"updated\"\u001b[39;49;00m: \u001b[34m1662120758\u001b[39;49;00m,\n",
      "  \u001b[94m\"version\"\u001b[39;49;00m: \u001b[33m\"6.3.1.1\"\u001b[39;49;00m,\n",
      "  \u001b[94m\"recentChanges\"\u001b[39;49;00m: \u001b[33m\"- Support subscription Exchange calendar.\\r\\n- General fixes and improvements.\"\u001b[39;49;00m,\n",
      "  \u001b[94m\"recentChangesHTML\"\u001b[39;49;00m: \u001b[33m\"- Support subscription Exchange calendar.<br>- General fixes and improvements.\"\u001b[39;49;00m,\n",
      "  \u001b[94m\"appId\"\u001b[39;49;00m: \u001b[33m\"com.ticktick.task\"\u001b[39;49;00m,\n",
      "  \u001b[94m\"url\"\u001b[39;49;00m: \u001b[33m\"https://play.google.com/store/apps/details?id=com.ticktick.task&hl=en&gl=us\"\u001b[39;49;00m\n",
      "}\n",
      "\n"
     ]
    }
   ],
   "source": [
    "print_json(app_info[0])"
   ]
  },
  {
   "cell_type": "code",
   "execution_count": 12,
   "id": "b0ebbebf",
   "metadata": {},
   "outputs": [],
   "source": [
    "def format_title(title):\n",
    "    step_index = title.find(':') if title.find(':') !=-1 else title.find('-')\n",
    "    if sep_index !=-1:\n",
    "        title = title[:sep_index]\n",
    "        return title[:10]\n",
    "    fig,axs = plt.subplots(2,len(app_info) // 2, figsize=(14,5))\n",
    "    \n",
    "    for i, ax in enumerate(axs.flat):\n",
    "        ai=app_info[i]\n",
    "        img=plt.imread(ai['icon'])\n",
    "        ax.iamshow(img)\n",
    "        ax.set_title(format_title(ai['title']))\n",
    "        ax.axis('off')\n",
    "     \n",
    "                "
   ]
  },
  {
   "cell_type": "code",
   "execution_count": 13,
   "id": "e64cad2e",
   "metadata": {},
   "outputs": [],
   "source": [
    "app_info_df = pd.DataFrame(app_info)\n",
    "app_info_df.to_csv('apps_csv',index=None,header=True)"
   ]
  },
  {
   "cell_type": "markdown",
   "id": "438aeaf1",
   "metadata": {},
   "source": [
    "# Scraping App Reviews"
   ]
  },
  {
   "cell_type": "code",
   "execution_count": 30,
   "id": "9f2dfa4c",
   "metadata": {},
   "outputs": [
    {
     "name": "stderr",
     "output_type": "stream",
     "text": [
      "100%|████████████████████████████████████████████████████████████████████████████████████| 1/1 [00:03<00:00,  3.36s/it]\n"
     ]
    }
   ],
   "source": [
    "app_reviews = []\n",
    "\n",
    "for ap in tqdm(app_packages):\n",
    "  for score in list(range(1, 6)):\n",
    "    for sort_order in [Sort.MOST_RELEVANT, Sort.NEWEST]:\n",
    "      rvs, _ = reviews(\n",
    "        ap,\n",
    "        lang='en',\n",
    "        country='us',\n",
    "        sort=sort_order,\n",
    "        count=10  if score == 2 else 60,\n",
    "        filter_score_with=score\n",
    "      )\n",
    "      for r in rvs:\n",
    "        r['sortOrder'] = 'most_relevant' if sort_order == Sort.MOST_RELEVANT else 'newest'\n",
    "        r['appId'] = ap\n",
    "      app_reviews.extend(rvs)"
   ]
  },
  {
   "cell_type": "code",
   "execution_count": 32,
   "id": "18efad6c",
   "metadata": {},
   "outputs": [
    {
     "name": "stdout",
     "output_type": "stream",
     "text": [
      "{\n",
      "  \u001b[94m\"reviewId\"\u001b[39;49;00m: \u001b[33m\"d413330d-832d-45fb-94b0-67ae82652e06\"\u001b[39;49;00m,\n",
      "  \u001b[94m\"userName\"\u001b[39;49;00m: \u001b[33m\"Abhinav Konagala\"\u001b[39;49;00m,\n",
      "  \u001b[94m\"userImage\"\u001b[39;49;00m: \u001b[33m\"https://play-lh.googleusercontent.com/a-/AFdZucpxQwkhBJ2x_Bv8_AXZm5nBsmWGRbVs6LVt0mhwpB4\"\u001b[39;49;00m,\n",
      "  \u001b[94m\"content\"\u001b[39;49;00m: \u001b[33m\"Great app with lots of features, I even subscribed for the full version. However, I just can't seem to open the app. Whenever I open the app, it closes down. I have to open the app 10-15 times for it to stay open to add my tasks or check my calendar, which just sucks. I'm not sure if this bug is being worked on at the moment but it's definitely making me want to delete the app and get a refund on my subscription.\"\u001b[39;49;00m,\n",
      "  \u001b[94m\"score\"\u001b[39;49;00m: \u001b[34m1\u001b[39;49;00m,\n",
      "  \u001b[94m\"thumbsUpCount\"\u001b[39;49;00m: \u001b[34m30\u001b[39;49;00m,\n",
      "  \u001b[94m\"reviewCreatedVersion\"\u001b[39;49;00m: \u001b[33m\"6.2.9.1\"\u001b[39;49;00m,\n",
      "  \u001b[94m\"at\"\u001b[39;49;00m: \u001b[33m\"2022-06-20 18:41:15\"\u001b[39;49;00m,\n",
      "  \u001b[94m\"replyContent\"\u001b[39;49;00m: \u001b[34mnull\u001b[39;49;00m,\n",
      "  \u001b[94m\"repliedAt\"\u001b[39;49;00m: \u001b[34mnull\u001b[39;49;00m,\n",
      "  \u001b[94m\"sortOrder\"\u001b[39;49;00m: \u001b[33m\"most_relevant\"\u001b[39;49;00m,\n",
      "  \u001b[94m\"appId\"\u001b[39;49;00m: \u001b[33m\"com.ticktick.task\"\u001b[39;49;00m\n",
      "}\n",
      "\n"
     ]
    }
   ],
   "source": [
    "print_json(app_reviews[0])"
   ]
  },
  {
   "cell_type": "code",
   "execution_count": 31,
   "id": "aceea917",
   "metadata": {},
   "outputs": [
    {
     "data": {
      "text/plain": [
       "500"
      ]
     },
     "execution_count": 31,
     "metadata": {},
     "output_type": "execute_result"
    }
   ],
   "source": [
    "len(app_reviews)"
   ]
  },
  {
   "cell_type": "code",
   "execution_count": 33,
   "id": "5f0f82b1",
   "metadata": {},
   "outputs": [],
   "source": [
    "app_reviews_df = pd.DataFrame(app_reviews)\n",
    "app_reviews_df.to_csv('reviews.csv', index=None, header=True)"
   ]
  },
  {
   "cell_type": "code",
   "execution_count": 41,
   "id": "3365cdc0",
   "metadata": {},
   "outputs": [
    {
     "data": {
      "text/html": [
       "<div>\n",
       "<style scoped>\n",
       "    .dataframe tbody tr th:only-of-type {\n",
       "        vertical-align: middle;\n",
       "    }\n",
       "\n",
       "    .dataframe tbody tr th {\n",
       "        vertical-align: top;\n",
       "    }\n",
       "\n",
       "    .dataframe thead th {\n",
       "        text-align: right;\n",
       "    }\n",
       "</style>\n",
       "<table border=\"1\" class=\"dataframe\">\n",
       "  <thead>\n",
       "    <tr style=\"text-align: right;\">\n",
       "      <th></th>\n",
       "      <th>reviewId</th>\n",
       "      <th>userName</th>\n",
       "      <th>userImage</th>\n",
       "      <th>content</th>\n",
       "      <th>score</th>\n",
       "      <th>thumbsUpCount</th>\n",
       "      <th>reviewCreatedVersion</th>\n",
       "      <th>at</th>\n",
       "      <th>replyContent</th>\n",
       "      <th>repliedAt</th>\n",
       "      <th>sortOrder</th>\n",
       "      <th>appId</th>\n",
       "    </tr>\n",
       "  </thead>\n",
       "  <tbody>\n",
       "    <tr>\n",
       "      <th>0</th>\n",
       "      <td>d413330d-832d-45fb-94b0-67ae82652e06</td>\n",
       "      <td>Abhinav Konagala</td>\n",
       "      <td>https://play-lh.googleusercontent.com/a-/AFdZu...</td>\n",
       "      <td>Great app with lots of features, I even subscr...</td>\n",
       "      <td>1</td>\n",
       "      <td>30</td>\n",
       "      <td>6.2.9.1</td>\n",
       "      <td>2022-06-20 18:41:15</td>\n",
       "      <td>NaN</td>\n",
       "      <td>NaN</td>\n",
       "      <td>most_relevant</td>\n",
       "      <td>com.ticktick.task</td>\n",
       "    </tr>\n",
       "    <tr>\n",
       "      <th>1</th>\n",
       "      <td>cbe4e3af-02dd-44d0-98da-406fd1d8ba11</td>\n",
       "      <td>A M</td>\n",
       "      <td>https://play-lh.googleusercontent.com/a/AItbvm...</td>\n",
       "      <td>I've been a loyal TickTick user for years. Ove...</td>\n",
       "      <td>1</td>\n",
       "      <td>81</td>\n",
       "      <td>6.2.4.1</td>\n",
       "      <td>2022-03-25 18:09:01</td>\n",
       "      <td>NaN</td>\n",
       "      <td>NaN</td>\n",
       "      <td>most_relevant</td>\n",
       "      <td>com.ticktick.task</td>\n",
       "    </tr>\n",
       "    <tr>\n",
       "      <th>2</th>\n",
       "      <td>7e6c0022-bfee-45e0-b77d-6c613d0f1e4f</td>\n",
       "      <td>Jenn Bishop</td>\n",
       "      <td>https://play-lh.googleusercontent.com/a-/AFdZu...</td>\n",
       "      <td>I used to love TickTick for the combination of...</td>\n",
       "      <td>1</td>\n",
       "      <td>4</td>\n",
       "      <td>NaN</td>\n",
       "      <td>2020-09-28 22:52:03</td>\n",
       "      <td>Hi Jenn, sorry to hear this. The issue you des...</td>\n",
       "      <td>2020-10-01 12:57:16</td>\n",
       "      <td>most_relevant</td>\n",
       "      <td>com.ticktick.task</td>\n",
       "    </tr>\n",
       "    <tr>\n",
       "      <th>3</th>\n",
       "      <td>4efdd6e9-fac2-473f-be4f-d3b0f22a1d4a</td>\n",
       "      <td>Ashley Pickrell</td>\n",
       "      <td>https://play-lh.googleusercontent.com/a/AItbvm...</td>\n",
       "      <td>Transitioned over to Tick Tick from Wunderlist...</td>\n",
       "      <td>1</td>\n",
       "      <td>47</td>\n",
       "      <td>5.9.1.1</td>\n",
       "      <td>2021-03-01 02:06:46</td>\n",
       "      <td>Hi there, sorry for the inconvenience. This is...</td>\n",
       "      <td>2021-03-01 06:39:48</td>\n",
       "      <td>most_relevant</td>\n",
       "      <td>com.ticktick.task</td>\n",
       "    </tr>\n",
       "    <tr>\n",
       "      <th>4</th>\n",
       "      <td>980efdc8-3a96-458c-bab5-e3cb20977983</td>\n",
       "      <td>Derek Myers</td>\n",
       "      <td>https://play-lh.googleusercontent.com/a-/AFdZu...</td>\n",
       "      <td>They double billed me for my premium subscript...</td>\n",
       "      <td>1</td>\n",
       "      <td>40</td>\n",
       "      <td>5.7.0</td>\n",
       "      <td>2020-06-16 21:41:52</td>\n",
       "      <td>NaN</td>\n",
       "      <td>NaN</td>\n",
       "      <td>most_relevant</td>\n",
       "      <td>com.ticktick.task</td>\n",
       "    </tr>\n",
       "  </tbody>\n",
       "</table>\n",
       "</div>"
      ],
      "text/plain": [
       "                               reviewId          userName  \\\n",
       "0  d413330d-832d-45fb-94b0-67ae82652e06  Abhinav Konagala   \n",
       "1  cbe4e3af-02dd-44d0-98da-406fd1d8ba11               A M   \n",
       "2  7e6c0022-bfee-45e0-b77d-6c613d0f1e4f       Jenn Bishop   \n",
       "3  4efdd6e9-fac2-473f-be4f-d3b0f22a1d4a   Ashley Pickrell   \n",
       "4  980efdc8-3a96-458c-bab5-e3cb20977983       Derek Myers   \n",
       "\n",
       "                                           userImage  \\\n",
       "0  https://play-lh.googleusercontent.com/a-/AFdZu...   \n",
       "1  https://play-lh.googleusercontent.com/a/AItbvm...   \n",
       "2  https://play-lh.googleusercontent.com/a-/AFdZu...   \n",
       "3  https://play-lh.googleusercontent.com/a/AItbvm...   \n",
       "4  https://play-lh.googleusercontent.com/a-/AFdZu...   \n",
       "\n",
       "                                             content  score  thumbsUpCount  \\\n",
       "0  Great app with lots of features, I even subscr...      1             30   \n",
       "1  I've been a loyal TickTick user for years. Ove...      1             81   \n",
       "2  I used to love TickTick for the combination of...      1              4   \n",
       "3  Transitioned over to Tick Tick from Wunderlist...      1             47   \n",
       "4  They double billed me for my premium subscript...      1             40   \n",
       "\n",
       "  reviewCreatedVersion                   at  \\\n",
       "0              6.2.9.1  2022-06-20 18:41:15   \n",
       "1              6.2.4.1  2022-03-25 18:09:01   \n",
       "2                  NaN  2020-09-28 22:52:03   \n",
       "3              5.9.1.1  2021-03-01 02:06:46   \n",
       "4                5.7.0  2020-06-16 21:41:52   \n",
       "\n",
       "                                        replyContent            repliedAt  \\\n",
       "0                                                NaN                  NaN   \n",
       "1                                                NaN                  NaN   \n",
       "2  Hi Jenn, sorry to hear this. The issue you des...  2020-10-01 12:57:16   \n",
       "3  Hi there, sorry for the inconvenience. This is...  2021-03-01 06:39:48   \n",
       "4                                                NaN                  NaN   \n",
       "\n",
       "       sortOrder              appId  \n",
       "0  most_relevant  com.ticktick.task  \n",
       "1  most_relevant  com.ticktick.task  \n",
       "2  most_relevant  com.ticktick.task  \n",
       "3  most_relevant  com.ticktick.task  \n",
       "4  most_relevant  com.ticktick.task  "
      ]
     },
     "execution_count": 41,
     "metadata": {},
     "output_type": "execute_result"
    }
   ],
   "source": [
    "data = pd.read_csv(\"reviews.csv\")\n",
    "data.shape\n",
    "data.head()"
   ]
  },
  {
   "cell_type": "code",
   "execution_count": null,
   "id": "07bcf450",
   "metadata": {},
   "outputs": [],
   "source": []
  }
 ],
 "metadata": {
  "kernelspec": {
   "display_name": "Python 3",
   "language": "python",
   "name": "python3"
  },
  "language_info": {
   "codemirror_mode": {
    "name": "ipython",
    "version": 3
   },
   "file_extension": ".py",
   "mimetype": "text/x-python",
   "name": "python",
   "nbconvert_exporter": "python",
   "pygments_lexer": "ipython3",
   "version": "3.8.8"
  }
 },
 "nbformat": 4,
 "nbformat_minor": 5
}
